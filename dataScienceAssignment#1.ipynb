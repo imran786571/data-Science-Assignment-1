{
 "cells": [
  {
   "cell_type": "code",
   "execution_count": 10,
   "id": "2fedc599",
   "metadata": {},
   "outputs": [
    {
     "name": "stdout",
     "output_type": "stream",
     "text": [
      "Python version: 3.8.8 (default, Apr 13 2021, 15:08:03) [MSC v.1916 64 bit (AMD64)]\n"
     ]
    }
   ],
   "source": [
    "import sys\n",
    "\n",
    "print(\"Python version: \" + sys.version);"
   ]
  },
  {
   "cell_type": "code",
   "execution_count": 19,
   "id": "89a8b955",
   "metadata": {},
   "outputs": [
    {
     "name": "stdout",
     "output_type": "stream",
     "text": [
      "30-12-2021 \n",
      "23:21:28\n"
     ]
    }
   ],
   "source": [
    "import datetime\n",
    "\n",
    "now = datetime.datetime.now()\n",
    "d = now.strftime(\"%d-%m-%Y \\n%H:%M:%S\")\n",
    "\n",
    "print(d)"
   ]
  },
  {
   "cell_type": "code",
   "execution_count": 23,
   "id": "e343cfa2",
   "metadata": {},
   "outputs": [
    {
     "name": "stdout",
     "output_type": "stream",
     "text": [
      "Please Input The Radius Of the Circle: 2.1\n",
      "The Area Of The Circle With Radius 2.1 Is: 13.854423602330987\n"
     ]
    }
   ],
   "source": [
    "from math import pi\n",
    "r = float(input(\"Please Input The Radius Of the Circle: \"));\n",
    "result = str(pi * r**2);\n",
    "print(\"The Area Of The Circle With Radius \" + str(r) + \" Is: \" + result)"
   ]
  },
  {
   "cell_type": "code",
   "execution_count": 35,
   "id": "40877c85",
   "metadata": {},
   "outputs": [
    {
     "name": "stdout",
     "output_type": "stream",
     "text": [
      "Please enter your first name: Imran\n",
      "Please enter your last name: Shah\n",
      "First name: narmI hahS\n"
     ]
    }
   ],
   "source": [
    "f = input(\"Please enter your first name: \");\n",
    "last = input(\"Please enter your last name: \");\n",
    "\n",
    "r_f= ''\n",
    "r_last = ''\n",
    "\n",
    "indexF = len(f);\n",
    "indexlast = len(last);\n",
    "\n",
    "while indexF > 0:\n",
    "    r_f += f[indexF - 1];\n",
    "    indexF = indexF - 1;\n",
    "    \n",
    "while indexlast > 0:\n",
    "    r_last += last[indexlast - 1];\n",
    "    indexlast = indexlast - 1;\n",
    "    \n",
    "    \n",
    "print(\"First name: \" + r_f + \" \" + r_last)"
   ]
  },
  {
   "cell_type": "code",
   "execution_count": 36,
   "id": "7211db4e",
   "metadata": {},
   "outputs": [
    {
     "name": "stdout",
     "output_type": "stream",
     "text": [
      "Twinkle, twinkle, little star, \n",
      "\tHow I wonder what you are! \n",
      "\t\tUp above the world so high, \n",
      "\t\tLike a diamond in the sky. \n",
      "Twinkle, twinkle, little star, \n",
      "\tHow I wonder what you are!\n"
     ]
    }
   ],
   "source": [
    "print(\"Twinkle, twinkle, little star, \\n\\tHow I wonder what you are! \\n\\t\\tUp above the world so high, \\n\\t\\tLike a diamond in the sky. \\nTwinkle, twinkle, little star, \\n\\tHow I wonder what you are!\")"
   ]
  },
  {
   "cell_type": "code",
   "execution_count": 38,
   "id": "7011028c",
   "metadata": {},
   "outputs": [
    {
     "name": "stdout",
     "output_type": "stream",
     "text": [
      "Please enter a number One: 5\n",
      "Please enter a number two: 1\n",
      "5 + 1 =  6\n"
     ]
    }
   ],
   "source": [
    "n1 = input(\"Please enter a number One: \");\n",
    "n2 = input(\"Please enter a number two: \");\n",
    "\n",
    "r = int(n1) + int(n2);\n",
    "\n",
    "print( n1 +\" + \"+ n2 + \" = \"  , r )"
   ]
  },
  {
   "cell_type": "code",
   "execution_count": null,
   "id": "5f0ee457",
   "metadata": {},
   "outputs": [],
   "source": []
  }
 ],
 "metadata": {
  "kernelspec": {
   "display_name": "Python 3",
   "language": "python",
   "name": "python3"
  },
  "language_info": {
   "codemirror_mode": {
    "name": "ipython",
    "version": 3
   },
   "file_extension": ".py",
   "mimetype": "text/x-python",
   "name": "python",
   "nbconvert_exporter": "python",
   "pygments_lexer": "ipython3",
   "version": "3.8.8"
  }
 },
 "nbformat": 4,
 "nbformat_minor": 5
}
